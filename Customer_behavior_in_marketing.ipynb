{
 "cells": [
  {
   "cell_type": "markdown",
   "metadata": {},
   "source": [
    "# Inference to make conclusion about customer behavior in Marketing\n",
    "\n",
    "Imagine you are a marketing analyst, your job is to improve the marketing campaigns. You have a dataset that contains customer information such as age, income, purchase history, open rate, and click-through rate. You want to understand how customer's age affects their purchase history. \n",
    "\n",
    "\n",
    "### Solution: \n",
    "\n",
    "\n",
    "Statistical inference can be used to make conclusions about customer behavior in marketing. Here is an example of how it can be done using a dataset of customer information, including age, income, purchase history, open rate, and click-through rate.\n",
    "\n",
    "1. Input: A marketing department wants to analyze customer behavior to improve its marketing campaigns. They have a dataset of customer information, including age, income, purchase history, open rate, and click-through rate.\n",
    "\n",
    "2. Code Implementation: The marketing department can use Python to perform statistical inference on the customer data."
   ]
  },
  {
   "cell_type": "code",
   "execution_count": 2,
   "metadata": {},
   "outputs": [
    {
     "name": "stdout",
     "output_type": "stream",
     "text": [
      "   Age  Income  Purchase_History  Open_Rate  Click_Through_Rate\n",
      "0   58   79184                 0       0.69                0.03\n",
      "1   26   76868                10       0.69                0.06\n",
      "2   55  160604                 0       0.12                0.03\n",
      "3   50   56956                 8       0.26                0.07\n",
      "4   52  159974                 3       0.46                0.04\n"
     ]
    }
   ],
   "source": [
    "# Creating synthetic data for this use case\n",
    "import pandas as pd\n",
    "import random\n",
    "\n",
    "random.seed(42)\n",
    "# Create a list of 1000 customer information\n",
    "customer_info = []\n",
    "for i in range(1000):\n",
    "    age = random.randint(18, 65)\n",
    "    income = random.randint(50000, 200000)\n",
    "    purchase_history = random.randint(0, 10)\n",
    "    open_rate = round(random.uniform(0.1, 0.9), 2)\n",
    "    click_through_rate = round(random.uniform(0.01, 0.1), 2)\n",
    "    customer_info.append([age, income, purchase_history, open_rate, click_through_rate])\n",
    "\n",
    "# Create a dataframe from the list\n",
    "customer_data = pd.DataFrame(customer_info, columns=['Age', 'Income', 'Purchase_History', 'Open_Rate', 'Click_Through_Rate'])\n",
    "\n",
    "# Print the first 5 rows of the dataframe\n",
    "print(customer_data.head())\n"
   ]
  },
  {
   "cell_type": "code",
   "execution_count": null,
   "metadata": {},
   "outputs": [],
   "source": []
  },
  {
   "cell_type": "markdown",
   "metadata": {},
   "source": [
    "# Test 1: chi-squared test\n",
    "Here, chi-squared test is used to determine if there is a relationship between age and purchase history. The p-value is calculated, and if it is less than a certain threshold (typically 0.05), it can be concluded that there is a statistically significant relationship between the two variables.\n",
    "\n",
    "You run a chi-squared test, the p-value is less than the threshold which means that there is a statistically significant relationship between customer's age and their purchase history. With this information, you can segment your customer base by age and tailor your marketing campaigns to each group to increase their purchase history."
   ]
  },
  {
   "cell_type": "markdown",
   "metadata": {},
   "source": [
    "The above code will create a dataset of 1000 customers, each represented by a row in a pandas dataframe. Each customer will have the following variables: age, income, purchase history, open rate, and click-through rate. The values for each variable are generated randomly using the random module. The dataframe can be used for further analysis and modeling in data science projects.\n",
    "\n",
    "This is just an example and you can use your own data as well."
   ]
  },
  {
   "cell_type": "code",
   "execution_count": 3,
   "metadata": {
    "scrolled": true
   },
   "outputs": [
    {
     "name": "stdout",
     "output_type": "stream",
     "text": [
      "Chi-squared test p-value: 0.23328355341252793\n"
     ]
    }
   ],
   "source": [
    "import pandas as pd\n",
    "from scipy.stats import chi2_contingency\n",
    "\n",
    "\n",
    "# Perform chi-squared test to see if there is a relationship between age and purchase history\n",
    "age_purchase_table = pd.crosstab(customers[\"Age\"], customers[\"Purchase_History\"])\n",
    "chi2, p, dof, expected = chi2_contingency(age_purchase_table)\n",
    "\n",
    "# Print results\n",
    "print(\"Chi-squared test p-value:\", p)"
   ]
  },
  {
   "cell_type": "markdown",
   "metadata": {},
   "source": [
    "# Result Analysis:\n",
    "\n",
    "If the p-value from a chi-squared test is greater than the threshold (typically 0.05), it means that there is not a statistically significant relationship between the two variables. In this case, the p-value of 0.233 suggests that there is not a statistically significant relationship between age and purchase history. Therefore, you cannot infer that age has a significant impact on purchase history.\n",
    "\n",
    "You may consider other factors that might have an impact on purchase history like income, purchase history, open rate, and click-through rate. It could be possible that these factors have more significant impact on purchase history than age. Also, it could be that the sample size is not large enough to detect an effect, so you may consider collecting more data and re-analyze."
   ]
  },
  {
   "cell_type": "code",
   "execution_count": null,
   "metadata": {},
   "outputs": [],
   "source": []
  },
  {
   "cell_type": "markdown",
   "metadata": {},
   "source": [
    "# Test 2: Pearson correlation coefficient \n",
    "Here, the Pearson correlation coefficient is a statistical test that is used to determine the strength and direction of a linear relationship between two variables. The correlation coefficient and p-value are calculated, and if the p-value is less than a certain threshold (typically 0.05), it can be concluded that there is a statistically significant relationship between the customers' age and their purchase history.\n"
   ]
  },
  {
   "cell_type": "code",
   "execution_count": 4,
   "metadata": {},
   "outputs": [
    {
     "name": "stdout",
     "output_type": "stream",
     "text": [
      "Correlation coefficient: -0.03358608629644346\n",
      "p-value: 0.2886643245691294\n"
     ]
    }
   ],
   "source": [
    "from scipy.stats import pearsonr\n",
    "# Calculate the correlation coefficient between age and purchase history\n",
    "corr, p = pearsonr(customers[\"Age\"], customers[\"Purchase_History\"])\n",
    "\n",
    "# Print the correlation coefficient and p-value\n",
    "print(\"Correlation coefficient:\", corr)\n",
    "print(\"p-value:\", p)"
   ]
  },
  {
   "cell_type": "markdown",
   "metadata": {},
   "source": [
    "The Pearson correlation coefficient is a measure of the strength and direction of the linear relationship between two variables. In this case, the correlation coefficient is -0.03358608629644346, which means that there is a very weak negative linear relationship between the two variables being tested. A correlation coefficient of -1 means a perfect negative linear relationship and +1 means a perfect positive linear relationship. A value of zero means no linear relationship.\n",
    "\n",
    "The p-value is a measure of the strength of evidence against a null hypothesis. In this case, the p-value is 0.2886643245691294, which is greater than the commonly used threshold of 0.05. This means that there is not enough evidence to reject the null hypothesis, which is that there is no relationship between the two variables.\n",
    "\n",
    "In simple terms, the test found a very weak negative relationship between the two variables, and it is not statistically significant as the p-value is greater than 0.05. So, there is not enough evidence to conclude that there is a relationship between the two variables."
   ]
  },
  {
   "cell_type": "markdown",
   "metadata": {},
   "source": [
    "### Possible tests for this problem:\n",
    "\n",
    "There are several other statistical tests that can be used to analyze the relationship between variables in a marketing problem, depending on the specific research question and the type of data being collected. Some other tests that can be used include:\n",
    "\n",
    "Spearman's rank correlation: This test is used to measure the strength and direction of the relationship between two variables when the data is ordinal or non-parametric.\n",
    "Kendall's tau: This test is similar to the Spearman's rank correlation but it is more robust to ties in the data.\n",
    "Chi-squared test: This test is used to determine if there is a significant association between two categorical variables.\n",
    "Logistic regression: This test is used to model the relationship between one or more independent variables and a binary dependent variable.\n",
    "\n",
    "\n",
    "### Chi Square Vs Pearson:\n",
    "\n",
    "Choosing the appropriate test depends on the specific research question and the type of data that is being collected. For example, if you are trying to determine the relationship between two continuous variables, then a Pearson correlation coefficient test would be appropriate. However, if you are trying to determine if there is an association between two categorical variables, then a chi-squared test would be more appropriate.\n",
    "\n",
    "In general, the best test to use is the one that is most appropriate for the research question and the type of data being collected. It is also important to keep in mind that a single test may not be sufficient to answer a research question, and a combination of tests may be needed to draw meaningful conclusions."
   ]
  },
  {
   "cell_type": "code",
   "execution_count": null,
   "metadata": {},
   "outputs": [],
   "source": []
  }
 ],
 "metadata": {
  "kernelspec": {
   "display_name": "Python 3",
   "language": "python",
   "name": "python3"
  },
  "language_info": {
   "codemirror_mode": {
    "name": "ipython",
    "version": 3
   },
   "file_extension": ".py",
   "mimetype": "text/x-python",
   "name": "python",
   "nbconvert_exporter": "python",
   "pygments_lexer": "ipython3",
   "version": "3.7.1"
  }
 },
 "nbformat": 4,
 "nbformat_minor": 4
}
