{
 "cells": [
  {
   "cell_type": "markdown",
   "metadata": {},
   "source": [
    "### Problem: Finding Effectiveness of new drug/treatment\n",
    "\n",
    "In medical research - make conclusions about the effectiveness of a new treatment based on data collected from a sample of patients\n",
    "\n",
    "### Solution: Using some common statistical inference tests to make conclusion"
   ]
  },
  {
   "cell_type": "markdown",
   "metadata": {},
   "source": [
    "Following code is an example of how to perform a t-test, chi-squared test, Kruskal-Wallis test, and Wilcoxon rank-sum test in Python.\n",
    "\n",
    "1. The t-test compares the means of the two groups (treatment and placebo) and calculates a t-statistic and p-value. A small p-value (less than 0.05) indicates that the difference in means between the two groups is statistically significant, meaning that there is a difference in the treatment effect between the two groups. \n",
    "2. The chi-squared test compares the distribution of a categorical variable (outcome) across different groups (treatment and placebo). A small p-value (less than 0.05) indicates that there is a significant difference in the distribution of the outcome variable between the two groups. \n",
    "3. The Kruskal-Wallis test is a non-parametric alternative to the one-way ANOVA. It compares the medians of two or more groups of data. A small p-value (less than 0.05) indicates that there is a significant difference in the medians of the groups. \n",
    "4. The Wilcoxon rank-sum test is a non-parametric alternative to the t-test. It compares the medians of two groups of data. A small p-value (less than 0.05) indicates that there is a significant difference in the medians of the groups. "
   ]
  },
  {
   "cell_type": "code",
   "execution_count": 1,
   "metadata": {},
   "outputs": [],
   "source": [
    "# Import libraries\n",
    "import numpy as np\n",
    "import pandas as pd\n",
    "from scipy import stats"
   ]
  },
  {
   "cell_type": "code",
   "execution_count": 2,
   "metadata": {},
   "outputs": [
    {
     "data": {
      "text/html": [
       "<div>\n",
       "<style scoped>\n",
       "    .dataframe tbody tr th:only-of-type {\n",
       "        vertical-align: middle;\n",
       "    }\n",
       "\n",
       "    .dataframe tbody tr th {\n",
       "        vertical-align: top;\n",
       "    }\n",
       "\n",
       "    .dataframe thead th {\n",
       "        text-align: right;\n",
       "    }\n",
       "</style>\n",
       "<table border=\"1\" class=\"dataframe\">\n",
       "  <thead>\n",
       "    <tr style=\"text-align: right;\">\n",
       "      <th></th>\n",
       "      <th>patient_id</th>\n",
       "      <th>treatment</th>\n",
       "      <th>outcome</th>\n",
       "    </tr>\n",
       "  </thead>\n",
       "  <tbody>\n",
       "    <tr>\n",
       "      <th>0</th>\n",
       "      <td>1</td>\n",
       "      <td>74.967142</td>\n",
       "      <td>1</td>\n",
       "    </tr>\n",
       "    <tr>\n",
       "      <th>1</th>\n",
       "      <td>2</td>\n",
       "      <td>68.617357</td>\n",
       "      <td>1</td>\n",
       "    </tr>\n",
       "    <tr>\n",
       "      <th>2</th>\n",
       "      <td>3</td>\n",
       "      <td>76.476885</td>\n",
       "      <td>1</td>\n",
       "    </tr>\n",
       "    <tr>\n",
       "      <th>3</th>\n",
       "      <td>4</td>\n",
       "      <td>85.230299</td>\n",
       "      <td>1</td>\n",
       "    </tr>\n",
       "    <tr>\n",
       "      <th>4</th>\n",
       "      <td>5</td>\n",
       "      <td>67.658466</td>\n",
       "      <td>0</td>\n",
       "    </tr>\n",
       "  </tbody>\n",
       "</table>\n",
       "</div>"
      ],
      "text/plain": [
       "   patient_id  treatment  outcome\n",
       "0           1  74.967142        1\n",
       "1           2  68.617357        1\n",
       "2           3  76.476885        1\n",
       "3           4  85.230299        1\n",
       "4           5  67.658466        0"
      ]
     },
     "execution_count": 2,
     "metadata": {},
     "output_type": "execute_result"
    }
   ],
   "source": [
    "# Creating Synthetic data for the analysis:\n",
    "\n",
    "# set seed for reproducibility\n",
    "np.random.seed(42)\n",
    "\n",
    "# create a sample of patients who received the new treatment\n",
    "treatment_group = pd.DataFrame({'patient_id': np.arange(1, 101),\n",
    "                               'treatment': np.random.normal(70, 10, 100),\n",
    "                               'outcome': np.random.binomial(1, 0.7, 100)})\n",
    "\n",
    "\n",
    "# create a sample of patients who received the placebo\n",
    "placebo_group = pd.DataFrame({'patient_id': np.arange(101, 201),\n",
    "                             'treatment': np.random.normal(65, 10, 100),\n",
    "                             'outcome': np.random.binomial(1, 0.6, 100)})\n",
    "\n",
    "# combine the two groups into a single dataset\n",
    "df = pd.concat([treatment_group, placebo_group])\n",
    "\n",
    "# reset the indices of the combined DataFrame\n",
    "df.reset_index(drop=True, inplace=True)\n",
    "\n",
    "df.head()"
   ]
  },
  {
   "cell_type": "code",
   "execution_count": 3,
   "metadata": {},
   "outputs": [
    {
     "data": {
      "text/html": [
       "<div>\n",
       "<style scoped>\n",
       "    .dataframe tbody tr th:only-of-type {\n",
       "        vertical-align: middle;\n",
       "    }\n",
       "\n",
       "    .dataframe tbody tr th {\n",
       "        vertical-align: top;\n",
       "    }\n",
       "\n",
       "    .dataframe thead th {\n",
       "        text-align: right;\n",
       "    }\n",
       "</style>\n",
       "<table border=\"1\" class=\"dataframe\">\n",
       "  <thead>\n",
       "    <tr style=\"text-align: right;\">\n",
       "      <th></th>\n",
       "      <th>patient_id</th>\n",
       "      <th>treatment</th>\n",
       "      <th>outcome</th>\n",
       "    </tr>\n",
       "  </thead>\n",
       "  <tbody>\n",
       "    <tr>\n",
       "      <th>195</th>\n",
       "      <td>196</td>\n",
       "      <td>50.641378</td>\n",
       "      <td>1</td>\n",
       "    </tr>\n",
       "    <tr>\n",
       "      <th>196</th>\n",
       "      <td>197</td>\n",
       "      <td>76.631638</td>\n",
       "      <td>0</td>\n",
       "    </tr>\n",
       "    <tr>\n",
       "      <th>197</th>\n",
       "      <td>198</td>\n",
       "      <td>65.102331</td>\n",
       "      <td>1</td>\n",
       "    </tr>\n",
       "    <tr>\n",
       "      <th>198</th>\n",
       "      <td>199</td>\n",
       "      <td>55.184913</td>\n",
       "      <td>1</td>\n",
       "    </tr>\n",
       "    <tr>\n",
       "      <th>199</th>\n",
       "      <td>200</td>\n",
       "      <td>69.621035</td>\n",
       "      <td>0</td>\n",
       "    </tr>\n",
       "  </tbody>\n",
       "</table>\n",
       "</div>"
      ],
      "text/plain": [
       "     patient_id  treatment  outcome\n",
       "195         196  50.641378        1\n",
       "196         197  76.631638        0\n",
       "197         198  65.102331        1\n",
       "198         199  55.184913        1\n",
       "199         200  69.621035        0"
      ]
     },
     "execution_count": 3,
     "metadata": {},
     "output_type": "execute_result"
    }
   ],
   "source": [
    "df.tail()"
   ]
  },
  {
   "cell_type": "markdown",
   "metadata": {},
   "source": [
    "In the synthetic data that is being generated in the code, there are three input fields:\n",
    "\n",
    "1. **patient_id**: This field represents a unique identifier for each patient in the dataset. The patient IDs range from 1 to 100 for the treatment group and from 101 to 200 for the placebo group.\n",
    "2. **treatment**: This field represents the treatment outcome for each patient. The treatment outcome is generated using the np.random.normal() function, which generates random numbers from a normal distribution. The mean of the distribution for the treatment group is 70 and the standard deviation is 10. The mean of the distribution for the placebo group is 65 and the standard deviation is also 10.\n",
    "3. **outcome**: This field represents the outcome of treatment for each patient. The outcome is generated using the np.random.binomial() function, which generates random numbers from a binomial distribution. The probability of success (i.e., a positive outcome) for the treatment group is 0.7 and the probability of success for the placebo group is 0.6.\n",
    "\n",
    "These fields are used to generate a synthetic dataset that can be used to perform statistical inferences. The goal is to make conclusions about the effectiveness of the new treatment based on data collected from a sample of patients."
   ]
  },
  {
   "cell_type": "code",
   "execution_count": 4,
   "metadata": {},
   "outputs": [
    {
     "name": "stdout",
     "output_type": "stream",
     "text": [
      "We have # of samples:  200\n"
     ]
    },
    {
     "data": {
      "text/plain": [
       "<AxesSubplot:xlabel='outcome'>"
      ]
     },
     "execution_count": 4,
     "metadata": {},
     "output_type": "execute_result"
    },
    {
     "data": {
      "image/png": "[encoded data removed]",
      "text/plain": [
       "<Figure size 432x288 with 1 Axes>"
      ]
     },
     "metadata": {
      "needs_background": "light"
     },
     "output_type": "display_data"
    }
   ],
   "source": [
    "print(\"We have # of samples: \", len(df))\n",
    "df[['outcome', 'patient_id']].groupby('outcome').count().plot(kind='bar')"
   ]
  },
  {
   "cell_type": "code",
   "execution_count": 5,
   "metadata": {},
   "outputs": [
    {
     "name": "stdout",
     "output_type": "stream",
     "text": [
      "t-statistic: 2.5222875354220764\n",
      "p-value: 0.012446610000599951\n",
      "Chi-squared test statistic: 8.734578010699858\n",
      "p-value: 0.0031223156792654725\n",
      "Kruskal-Wallis test statistic: 7.119188059701401\n",
      "p-value: 0.007626323710912528\n",
      "Wilcoxon rank-sum test statistic: 1792.0\n",
      "p-value: 0.01172574799602767\n"
     ]
    }
   ],
   "source": [
    "# T-test\n",
    "t, p = stats.ttest_ind(treatment_group['treatment'], placebo_group['treatment'])\n",
    "print(\"t-statistic:\", t)\n",
    "print(\"p-value:\", p)\n",
    "\n",
    "# Chi-squared test\n",
    "contingency_table = pd.crosstab(df['outcome'], df['patient_id'].apply(lambda x: 'Treatment' if x < 101 else 'Placebo'))\n",
    "chi2, p, dof, ex = stats.chi2_contingency(contingency_table)\n",
    "print(\"Chi-squared test statistic:\", chi2)\n",
    "print(\"p-value:\", p)\n",
    "\n",
    "# Kruskal-Wallis test\n",
    "treatment = treatment_group['treatment'].tolist()\n",
    "placebo = placebo_group['treatment'].tolist()\n",
    "stat, p = stats.kruskal(treatment, placebo)\n",
    "print(\"Kruskal-Wallis test statistic:\", stat)\n",
    "print(\"p-value:\", p)\n",
    "\n",
    "# conduct the Wilcoxon rank-sum test\n",
    "stat, p = stats.wilcoxon(treatment, placebo)\n",
    "print(\"Wilcoxon rank-sum test statistic:\", stat)\n",
    "print(\"p-value:\", p)"
   ]
  },
  {
   "cell_type": "markdown",
   "metadata": {},
   "source": [
    "# Result Indicates:\n",
    "\n",
    "The results of the above implementation show the output of various statistical tests that have been performed on the \"medical research\" data. The t-test, chi-squared test, Kruskal-Wallis test, and Wilcoxon rank-sum test are all tests used to determine if there is a significant difference between two or more groups of data.\n",
    "\n",
    "1. T-Test: The t-statistic of 2.522 and the p-value of 0.01244 suggest that there is a statistically significant difference in the mean treatment value between the treatment group and the placebo group. The p-value of less than 0.05 suggests that this difference is unlikely to have occurred by chance.\n",
    "\n",
    "2. Chi-Squared Test: The Chi-squared test statistic of 8.73 and the p-value of 0.00312 suggest that there is a statistically significant difference in the distribution of the outcome variable between the treatment group and the placebo group. The p-value of less than 0.05 suggests that this difference is unlikely to have occurred by chance.\n",
    "\n",
    "3. Kruskal-Wallis Test: The Kruskal-Wallis test statistic of 7.119 and the p-value of 0.0076 suggest that there is a statistically significant difference in the distribution of the treatment variable between the treatment group and the placebo group. The p-value of less than 0.05 suggests that this difference is unlikely to have occurred by chance.\n",
    "\n",
    "4. Wilcoxon rank-sum test: The Wilcoxon rank-sum test statistic of 1792 and the p-value of 0.0117 suggest that there is a statistically significant difference in the distribution of the treatment variable between the treatment group and the placebo group. The p-value of less than 0.05 suggests that this difference is unlikely to have occurred by chance.\n",
    "\n",
    "All four test results indicates that there is a statistically significant difference in the treatment variable between the treatment group and the placebo group."
   ]
  },
  {
   "cell_type": "code",
   "execution_count": null,
   "metadata": {},
   "outputs": [],
   "source": []
  },
  {
   "cell_type": "markdown",
   "metadata": {},
   "source": [
    "# Conclusion:\n",
    "\n",
    "Based on the results of the t-test, chi-squared test, Kruskal-Wallis test, and Wilcoxon rank-sum test, it can be concluded that there is a statistically significant difference in the treatment variable between the treatment group and the placebo group. This suggests that the new treatment may be effective in improving the outcome variable. However, it's important to keep in mind that these tests were performed on simulated data and that in real-world medical research, multiple tests should be run as well as other statistical and non-statistical analysis before making any conclusions. Additionally, these tests are inferential in nature and based on the sample data, we cannot conclude anything about the population. It should be used as an evidence to support or reject the hypothesis."
   ]
  },
  {
   "cell_type": "code",
   "execution_count": null,
   "metadata": {},
   "outputs": [],
   "source": []
  },
  {
   "cell_type": "markdown",
   "metadata": {},
   "source": [
    "# Improvements:\n",
    "\n",
    "I have used synthetic data therefore there is a scope of make it more similar to real world data. \n",
    "\n",
    "To make the distribution more realistic in the treatment_group and placebo_group DataFrames, you can use more appropriate distribution functions and parameters. For example, instead of using np.random.normal to generate the treatment and outcome variables, you could use a more specific distribution function such as np.random.normal, np.random.lognormal, or np.random.exponential, depending on the nature of the data. Additionally, you could use more realistic parameters for the distribution functions, such as mean and standard deviation values that are based on real-world data.\n",
    "\n",
    "For example, if you want to use normal distribution for treatment_group and placebo_group, you could use mean and standard deviation values based on real-world data for the treatment and outcome variables, like this:"
   ]
  },
  {
   "cell_type": "code",
   "execution_count": 6,
   "metadata": {},
   "outputs": [],
   "source": [
    "\n",
    "# set seed for reproducibility\n",
    "np.random.seed(42)\n",
    "\n",
    "# create a sample of patients who received the new treatment\n",
    "treatment_group = pd.DataFrame({'patient_id': np.arange(1, 101),\n",
    "                               'treatment': np.random.normal(70, 10, 100),\n",
    "                               'outcome': np.random.binomial(1, 0.7, 100)})\n",
    "\n",
    "\n",
    "# create a sample of patients who received the placebo\n",
    "placebo_group = pd.DataFrame({'patient_id': np.arange(101, 201),\n",
    "                             'treatment': np.random.normal(65, 10, 100),\n",
    "                             'outcome': np.random.binomial(1, 0.6, 100)})\n",
    "\n",
    "# combine the two groups into a single dataset\n",
    "df = pd.concat([treatment_group, placebo_group])\n",
    "\n",
    "# reset the indices of the combined DataFrame\n",
    "df.reset_index(drop=True, inplace=True)\n",
    "\n",
    "\n",
    "\n",
    "\n",
    "# create a sample of patients who received the new treatment\n",
    "treatment_group = pd.DataFrame({'patient_id': np.arange(1, 101),\n",
    "                               'treatment': np.random.lognormal(70, 10, 100),\n",
    "                               'outcome': np.random.binomial(1, 0.7, 100)})\n",
    "\n",
    "# create a sample of patients who received the placebo\n",
    "placebo_group = pd.DataFrame({'patient_id': np.arange(101, 201),\n",
    "                             'treatment': np.random.lognormal(65, 10, 100),\n",
    "                             'outcome': np.random.binomial(1, 0.6, 100)})\n",
    "\n",
    "# combine the two groups into a single dataset\n",
    "df = pd.concat([treatment_group, placebo_group])\n",
    "\n",
    "# reset the indices of the combined DataFrame\n",
    "df.reset_index(drop=True, inplace=True)\n",
    "\n",
    "#Please note that it's important to validate the assumption of normality for the variables before using!"
   ]
  },
  {
   "cell_type": "code",
   "execution_count": 7,
   "metadata": {},
   "outputs": [
    {
     "data": {
      "text/html": [
       "<div>\n",
       "<style scoped>\n",
       "    .dataframe tbody tr th:only-of-type {\n",
       "        vertical-align: middle;\n",
       "    }\n",
       "\n",
       "    .dataframe tbody tr th {\n",
       "        vertical-align: top;\n",
       "    }\n",
       "\n",
       "    .dataframe thead th {\n",
       "        text-align: right;\n",
       "    }\n",
       "</style>\n",
       "<table border=\"1\" class=\"dataframe\">\n",
       "  <thead>\n",
       "    <tr style=\"text-align: right;\">\n",
       "      <th></th>\n",
       "      <th>patient_id</th>\n",
       "      <th>treatment</th>\n",
       "      <th>outcome</th>\n",
       "    </tr>\n",
       "  </thead>\n",
       "  <tbody>\n",
       "    <tr>\n",
       "      <th>0</th>\n",
       "      <td>1</td>\n",
       "      <td>2.079828e+30</td>\n",
       "      <td>1</td>\n",
       "    </tr>\n",
       "    <tr>\n",
       "      <th>1</th>\n",
       "      <td>2</td>\n",
       "      <td>1.113484e+26</td>\n",
       "      <td>1</td>\n",
       "    </tr>\n",
       "    <tr>\n",
       "      <th>2</th>\n",
       "      <td>3</td>\n",
       "      <td>2.090317e+30</td>\n",
       "      <td>1</td>\n",
       "    </tr>\n",
       "    <tr>\n",
       "      <th>3</th>\n",
       "      <td>4</td>\n",
       "      <td>1.402766e+29</td>\n",
       "      <td>1</td>\n",
       "    </tr>\n",
       "    <tr>\n",
       "      <th>4</th>\n",
       "      <td>5</td>\n",
       "      <td>6.341071e+31</td>\n",
       "      <td>1</td>\n",
       "    </tr>\n",
       "  </tbody>\n",
       "</table>\n",
       "</div>"
      ],
      "text/plain": [
       "   patient_id     treatment  outcome\n",
       "0           1  2.079828e+30        1\n",
       "1           2  1.113484e+26        1\n",
       "2           3  2.090317e+30        1\n",
       "3           4  1.402766e+29        1\n",
       "4           5  6.341071e+31        1"
      ]
     },
     "execution_count": 7,
     "metadata": {},
     "output_type": "execute_result"
    }
   ],
   "source": [
    "df.head()"
   ]
  },
  {
   "cell_type": "code",
   "execution_count": 8,
   "metadata": {},
   "outputs": [
    {
     "name": "stdout",
     "output_type": "stream",
     "text": [
      "We have # of samples:  200\n"
     ]
    },
    {
     "data": {
      "text/plain": [
       "<AxesSubplot:xlabel='outcome'>"
      ]
     },
     "execution_count": 8,
     "metadata": {},
     "output_type": "execute_result"
    },
    {
     "data": {
      "image/png": "[encoded data removed]",
      "text/plain": [
       "<Figure size 432x288 with 1 Axes>"
      ]
     },
     "metadata": {
      "needs_background": "light"
     },
     "output_type": "display_data"
    }
   ],
   "source": [
    "print(\"We have # of samples: \", len(df))\n",
    "df[['outcome', 'patient_id']].groupby('outcome').count().plot(kind='bar')"
   ]
  },
  {
   "cell_type": "code",
   "execution_count": null,
   "metadata": {},
   "outputs": [],
   "source": []
  }
 ],
 "metadata": {
  "kernelspec": {
   "display_name": "Python 3",
   "language": "python",
   "name": "python3"
  },
  "language_info": {
   "codemirror_mode": {
    "name": "ipython",
    "version": 3
   },
   "file_extension": ".py",
   "mimetype": "text/x-python",
   "name": "python",
   "nbconvert_exporter": "python",
   "pygments_lexer": "ipython3",
   "version": "3.7.1"
  }
 },
 "nbformat": 4,
 "nbformat_minor": 4
}
